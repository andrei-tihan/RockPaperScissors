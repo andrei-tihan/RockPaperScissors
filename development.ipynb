{
 "cells": [
  {
   "cell_type": "code",
   "id": "initial_id",
   "metadata": {
    "collapsed": true,
    "ExecuteTime": {
     "end_time": "2025-07-27T23:21:45.909346Z",
     "start_time": "2025-07-27T23:21:35.342970Z"
    }
   },
   "source": [
    "import random\n",
    "\n",
    "hand = [\"rock\", \"paper\", \"scissors\"]\n",
    "player = input(\"Will you play rock, paper, or scissors?\")\n",
    "computer = random.choice(hand)\n",
    "\n",
    "if player.lower() in hand:\n",
    "    print(\"Input test\")\n",
    "else:\n",
    "    print(\"Please enter rock, paper, or scissors.\")\n",
    "\n"
   ],
   "outputs": [
    {
     "name": "stdout",
     "output_type": "stream",
     "text": [
      "Input test\n"
     ]
    }
   ],
   "execution_count": 4
  }
 ],
 "metadata": {
  "kernelspec": {
   "display_name": "Python 3",
   "language": "python",
   "name": "python3"
  },
  "language_info": {
   "codemirror_mode": {
    "name": "ipython",
    "version": 2
   },
   "file_extension": ".py",
   "mimetype": "text/x-python",
   "name": "python",
   "nbconvert_exporter": "python",
   "pygments_lexer": "ipython2",
   "version": "2.7.6"
  }
 },
 "nbformat": 4,
 "nbformat_minor": 5
}
