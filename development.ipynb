{
 "cells": [
  {
   "cell_type": "code",
   "id": "initial_id",
   "metadata": {
    "collapsed": true,
    "ExecuteTime": {
     "end_time": "2025-07-28T00:40:19.982758Z",
     "start_time": "2025-07-28T00:40:14.825185Z"
    }
   },
   "source": [
    "import random\n",
    "\n",
    "hand = [\"rock\", \"paper\", \"scissors\"]\n",
    "computer = random.choice(hand)\n",
    "player_score = 0\n",
    "computer_score = 0\n",
    "\n",
    "while True:\n",
    "    player = input(\"Will you play rock, paper, or scissors? Type quit to exit game.\")\n",
    "\n",
    "    if player.lower() in hand:\n",
    "        if player.lower() == computer:\n",
    "            pass\n",
    "        elif player.lower() == hand[0]:\n",
    "            pass\n",
    "        elif player.lower() == hand[1]:\n",
    "            pass\n",
    "        elif player.lower() == hand[2]:\n",
    "            pass\n",
    "\n",
    "\n",
    "    elif player.lower() == \"quit\":\n",
    "        print(f\"\"\"\n",
    "        Game over, thanks for playing!\n",
    "        Your final score: {player_score}\n",
    "        Computer score: {computer_score}\n",
    "        \"\"\")\n",
    "        break\n",
    "    else:\n",
    "        print(\"Invalid input. Please enter rock, paper, or scissors. Type quit to exit the game.\")\n",
    "\n"
   ],
   "outputs": [
    {
     "name": "stdout",
     "output_type": "stream",
     "text": [
      "\n",
      "        Game over, thanks for playing!\n",
      "        Your final score: 0\n",
      "        Computer score: 0\n",
      "        \n"
     ]
    }
   ],
   "execution_count": 14
  }
 ],
 "metadata": {
  "kernelspec": {
   "display_name": "Python 3",
   "language": "python",
   "name": "python3"
  },
  "language_info": {
   "codemirror_mode": {
    "name": "ipython",
    "version": 2
   },
   "file_extension": ".py",
   "mimetype": "text/x-python",
   "name": "python",
   "nbconvert_exporter": "python",
   "pygments_lexer": "ipython2",
   "version": "2.7.6"
  }
 },
 "nbformat": 4,
 "nbformat_minor": 5
}
