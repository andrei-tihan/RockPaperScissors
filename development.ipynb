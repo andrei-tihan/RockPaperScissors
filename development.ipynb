{
 "cells": [
  {
   "cell_type": "code",
   "id": "initial_id",
   "metadata": {
    "collapsed": true
   },
   "source": [
    "import random\n",
    "\n",
    "hand = [\"rock\", \"paper\", \"scissors\"]\n",
    "player_score = 0\n",
    "computer_score = 0\n",
    "\n",
    "def win(score, player_name): # Win function for modularity and to simplify code\n",
    "    score += 1\n",
    "    print(f\"{player_name} won! Your score is {player_score} to computer's {computer_score}. Play again or type quit to exit game.\")\n",
    "    return score\n",
    "\n",
    "while True: # Added while loop to be able to let user input without having to run program again\n",
    "    player = input(\"Will you play rock, paper, or scissors? Type quit to exit game.\")\n",
    "\n",
    "    if player.lower() in hand:\n",
    "        computer = random.choice(hand)\n",
    "\n",
    "        if player.lower() == computer:\n",
    "            print(f\"It's a tie! Your score is {player_score} to computer's {computer_score}. Please try again or type quit to exit game.\")\n",
    "        elif player.lower() == hand[0]:\n",
    "            if computer == hand[2]:\n",
    "                player_score += win(player_score, \"You\")\n",
    "            else:\n",
    "                computer_score += (computer_score, \"Computer\")\n",
    "        elif player.lower() == hand[1]:\n",
    "            if computer == hand[0]:\n",
    "                player_score += (player_score, \"You\")\n",
    "            else:\n",
    "                computer_score += (computer_score, \"Computer\")\n",
    "        elif player.lower() == hand[2]:\n",
    "            if computer == hand[1]:\n",
    "                player_score += (player_score, \"You\")\n",
    "            else:\n",
    "                computer_score += (computer_score, \"Computer\")\n",
    "\n",
    "    elif player.lower() == \"quit\":\n",
    "        print(f\"\"\"\n",
    "        Game over! Your final score is:\n",
    "        Player score: {player_score}\n",
    "        Computer score: {computer_score}\n",
    "        Thanks for playing!\n",
    "        \"\"\")\n",
    "        break\n",
    "    else:\n",
    "        print(\"Invalid input. Please enter rock, paper, or scissors. Type quit to exit game.\")\n",
    "\n"
   ],
   "outputs": [],
   "execution_count": null
  }
 ],
 "metadata": {
  "kernelspec": {
   "display_name": "Python 3",
   "language": "python",
   "name": "python3"
  },
  "language_info": {
   "codemirror_mode": {
    "name": "ipython",
    "version": 2
   },
   "file_extension": ".py",
   "mimetype": "text/x-python",
   "name": "python",
   "nbconvert_exporter": "python",
   "pygments_lexer": "ipython2",
   "version": "2.7.6"
  }
 },
 "nbformat": 4,
 "nbformat_minor": 5
}
