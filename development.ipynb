{
 "cells": [
  {
   "cell_type": "code",
   "id": "initial_id",
   "metadata": {
    "collapsed": true
   },
   "source": [
    "import random\n",
    "\n",
    "hand = [\"rock\", \"paper\", \"scissors\"]\n",
    "player_score = 0\n",
    "computer_score = 0\n",
    "\n",
    "def win(score, player_name): # Win function for modularity and to simplify code\n",
    "    score += 1\n",
    "    print(f\"You played {player} and computer played {computer}. {player_name} won!\\nPlay again or type quit to exit game.\")\n",
    "    return score\n",
    "\n",
    "while True: # Added while loop to be able to let user input without having to run program again\n",
    "    player = input(\"Will you play rock, paper, or scissors?\\nType quit to exit game and see your score.\\n\")\n",
    "\n",
    "    if player.lower() in hand: # User input works regardless of upper or lower case\n",
    "        computer = random.choice(hand)\n",
    "\n",
    "        if player.lower() == computer: # Universal tie condition message\n",
    "            print(f\"You played {player} and computer played {computer}. It's a tie!\\nPlay again or type quit to exit game.\")\n",
    "        elif player.lower() == 'rock':\n",
    "            if computer == 'scissors':\n",
    "                player_score = win(player_score, \"You\")\n",
    "            else:\n",
    "                computer_score = win(computer_score, \"Computer\")\n",
    "        elif player.lower() == 'paper':\n",
    "            if computer == 'rock':\n",
    "                player_score = win(player_score, \"You\")\n",
    "            else:\n",
    "                computer_score = win(computer_score, \"Computer\")\n",
    "        elif player.lower() == 'scissors':\n",
    "            if computer == 'paper':\n",
    "                player_score = win(player_score, \"You\")\n",
    "            else:\n",
    "                computer_score = win(computer_score, \"Computer\")\n",
    "\n",
    "    elif player.lower() == \"quit\": # Lets the user quit the game and view their final score\n",
    "        print(f\"\"\"\n",
    "        Game over! Your final score is:\n",
    "        Player score: {player_score}\n",
    "        Computer score: {computer_score}\n",
    "        Thanks for playing!\n",
    "        \"\"\")\n",
    "        break\n",
    "\n",
    "    else:\n",
    "        print(\"Invalid input. Please enter rock, paper, or scissors. Type quit to exit game.\")\n"
   ],
   "outputs": [],
   "execution_count": null
  }
 ],
 "metadata": {
  "kernelspec": {
   "display_name": "Python 3",
   "language": "python",
   "name": "python3"
  },
  "language_info": {
   "codemirror_mode": {
    "name": "ipython",
    "version": 2
   },
   "file_extension": ".py",
   "mimetype": "text/x-python",
   "name": "python",
   "nbconvert_exporter": "python",
   "pygments_lexer": "ipython2",
   "version": "2.7.6"
  }
 },
 "nbformat": 4,
 "nbformat_minor": 5
}
